{
    "cells": [
        {
            "attachments": {},
            "cell_type": "markdown",
            "metadata": {
                "azdata_cell_guid": "caa06115-3d03-4704-9e36-ce4c7c45efbf"
            },
            "source": [
                "# DeployMe - Migration Based Deployment\n",
                "\n",
                "For this session's purpose, creating a manual version of a Migration State deployment. \n",
                "\n",
                "  \n",
                "\n",
                "\\* DeployMe\\_MigrationScript.ps1 is a fairly simple PowerShell script that will go through the directory and run the scripts in the specified order and log the entry to a MigationLog table."
            ]
        },
        {
            "attachments": {},
            "cell_type": "markdown",
            "metadata": {
                "azdata_cell_guid": "dbafeca9-e562-4a82-bf7d-4a4a2a9917fb"
            },
            "source": [
                "## Reset the Database\n",
                "\n",
                "Pull down the .NET interactive packages for connecting to SQL Server before starting.\n",
                "\n",
                "NOTE. You can also specify the specific version of the code you want to use. If so, it could look something like this:\n",
                "\n",
                "```\n",
                "#r \"nuget: Microsoft.DotNet.Interactive.SqlServer, 1.0.0-beta.24229.4\"\n",
                "\n",
                "```\n",
                "\n",
                "Then drop and recreate the database so we have an empty shell of database"
            ]
        },
        {
            "cell_type": "code",
            "execution_count": null,
            "metadata": {
                "azdata_cell_guid": "5830471d-2a7e-4d7d-8350-e7655a7b8964",
                "dotnet_interactive": {
                    "language": "csharp"
                },
                "language": "dotnet-interactive.csharp"
            },
            "outputs": [],
            "source": [
                "#r \"nuget:Microsoft.DotNet.Interactive.SqlServer,*-*\""
            ]
        },
        {
            "cell_type": "code",
            "execution_count": null,
            "metadata": {
                "azdata_cell_guid": "70ec940b-e2b2-4ad4-924c-2b0e0ad90c0c",
                "dotnet_interactive": {
                    "language": "sql"
                },
                "language": "dotnet-interactive.sql"
            },
            "outputs": [],
            "source": [
                "#!connect mssql --kernel-name mymasterdb \"Persist Security Info=False;Encrypt=False;Initial Catalog=master; Server=192.168.182.128; User=deb; Password=Presenter; \""
            ]
        },
        {
            "cell_type": "code",
            "execution_count": null,
            "metadata": {
                "azdata_cell_guid": "addd8fdb-317d-4362-882c-eece9f6119d6",
                "dotnet_interactive": {
                    "language": "sql"
                },
                "language": "dotnet-interactive.sql"
            },
            "outputs": [],
            "source": [
                "#!sql-mymasterdb\n",
                "\n",
                "DROP DATABASE DeployMe_Migration\n",
                "\n",
                "CREATE DATABASE DeployMe_Migration\n"
            ]
        },
        {
            "attachments": {},
            "cell_type": "markdown",
            "metadata": {
                "azdata_cell_guid": "0c431983-57b9-4f16-b532-ade05fe8fff3",
                "language": "dotnet-interactive.sql"
            },
            "source": [
                "## Run the initial PowerShell script to run all the files"
            ]
        },
        {
            "cell_type": "markdown",
            "metadata": {},
            "source": [
                "Open the powershell script first to show what's in the file before running."
            ]
        },
        {
            "cell_type": "code",
            "execution_count": null,
            "metadata": {
                "azdata_cell_guid": "14d9ef4d-084c-4bb6-b5b6-6011f939516e",
                "dotnet_interactive": {
                    "language": "pwsh"
                },
                "language": "dotnet-interactive.pwsh"
            },
            "outputs": [],
            "source": [
                ". \"C:\\GitRepo\\DBDeployments\\DeployMe\\DeployMe_Migration\\DeployMe_MigrationScript.ps1\""
            ]
        },
        {
            "attachments": {},
            "cell_type": "markdown",
            "metadata": {
                "azdata_cell_guid": "222a7abd-0873-47f8-8a41-aba13fad47d7",
                "language": "dotnet-interactive.pwsh"
            },
            "source": [
                "Confirm that objects exists"
            ]
        },
        {
            "cell_type": "code",
            "execution_count": null,
            "metadata": {
                "azdata_cell_guid": "08d5c63a-261f-48b1-9f8a-53876b97dfb8",
                "dotnet_interactive": {
                    "language": "sql"
                },
                "language": "dotnet-interactive.sql"
            },
            "outputs": [],
            "source": [
                "#!connect mssql --kernel-name DeployMeM \"Persist Security Info=False;Encrypt=False;Initial Catalog=DeployMe_Migration; Server=192.168.182.128; User=deb; Password=Presenter; \""
            ]
        },
        {
            "cell_type": "code",
            "execution_count": null,
            "metadata": {
                "azdata_cell_guid": "97f79578-7e2c-4fa6-b279-b4e5ee6c0ce3",
                "dotnet_interactive": {
                    "language": "sql"
                },
                "language": "dotnet-interactive.sql"
            },
            "outputs": [],
            "source": [
                "#!sql-DeployMeM\n",
                "\n",
                "SELECT TOP 10 name, schema_id FROM sys.tables\n",
                "\n",
                "SELECT TOP 10 * FROM Deploy.MigrationLog\n",
                "ORDER BY MigrationLogID DESC \n"
            ]
        },
        {
            "attachments": {},
            "cell_type": "markdown",
            "metadata": {
                "azdata_cell_guid": "0fad2376-3901-442d-b258-c6dcbd51a79f",
                "language": "dotnet-interactive.sql"
            },
            "source": [
                "## Add Data File\n",
                "\n",
                "There is a data script in \"C:\\\\GitRepo\\\\DBDeployments\\\\DeployMe\\\\Demo Files\\\\Lookup10.Data.sql\" that we want to add to a Data folder in the Migration script directory. The PowerShell script should be looking for it and adding it automatically. \n",
                "\n",
                "Steps are:\n",
                "\n",
                "1. Select from the table to prove there are no records\n",
                "2. Copy the file into a Data directory\n",
                "3. Run the PowerShell script\n",
                "4. Run the Select again"
            ]
        },
        {
            "cell_type": "code",
            "execution_count": null,
            "metadata": {
                "azdata_cell_guid": "37cc9132-ad79-4301-b310-450f3854f1fb",
                "dotnet_interactive": {
                    "language": "sql"
                },
                "language": "dotnet-interactive.sql"
            },
            "outputs": [],
            "source": [
                "#!sql-DeployMeM\n",
                "\n",
                "SELECT * FROM dbo.Lookup10"
            ]
        },
        {
            "cell_type": "code",
            "execution_count": null,
            "metadata": {
                "azdata_cell_guid": "fa1876e8-0540-428b-a77d-408a534c7da7",
                "dotnet_interactive": {
                    "language": "pwsh"
                },
                "language": "dotnet-interactive.pwsh"
            },
            "outputs": [],
            "source": [
                "New-Item -Path 'C:\\GitRepo\\DBDeployments\\DeployMe\\DeployMe_Migration\\Data' -ItemType Directory\n",
                "Copy-item -Path \"C:\\GitRepo\\DBDeployments\\DeployMe\\Demo Files\\Lookup10.Data.sql\" -Destination \"C:\\GitRepo\\DBDeployments\\DeployMe\\DeployMe_Migration\\Data\\Lookup10.Data.sql\" -Force"
            ]
        },
        {
            "cell_type": "code",
            "execution_count": null,
            "metadata": {
                "azdata_cell_guid": "fe41d2f4-4013-44df-a94c-c11afad65445",
                "dotnet_interactive": {
                    "language": "pwsh"
                },
                "language": "dotnet-interactive.pwsh"
            },
            "outputs": [],
            "source": [
                ". \"C:\\GitRepo\\DBDeployments\\DeployMe\\DeployMe_Migration\\DeployMe_MigrationScript.ps1\""
            ]
        },
        {
            "cell_type": "code",
            "execution_count": null,
            "metadata": {
                "azdata_cell_guid": "c57c6ccc-c15c-403c-85bf-dd2ef0a01583",
                "dotnet_interactive": {
                    "language": "sql"
                },
                "language": "dotnet-interactive.sql"
            },
            "outputs": [],
            "source": [
                "#!sql-DeployMeM\n",
                "\n",
                "SELECT * FROM dbo.Lookup10"
            ]
        },
        {
            "attachments": {},
            "cell_type": "markdown",
            "metadata": {
                "azdata_cell_guid": "4474705e-0c3f-4c57-9b70-eeacede4b83b",
                "language": "dotnet-interactive.sql"
            },
            "source": [
                "## Schema Change\n",
                "\n",
                "How would we handle schema changes?\n",
                "\n",
                "  \n",
                "\n",
                "Some of these changes could be done by script but for now, I will manually walk through the steps: \n",
                "\n",
                "1. Add script for new schema, DemoSetup\n",
                "2. Show the stored proc script DummyTableAndProcCreation to move to the new schema.\n",
                "1. Reminder: Rename in Git\\\\Source Control to keep the file history.\n",
                "4. Run the PowerShell script (optional)"
            ]
        },
        {
            "cell_type": "code",
            "execution_count": null,
            "metadata": {
                "dotnet_interactive": {
                    "language": "pwsh"
                },
                "polyglot_notebook": {
                    "kernelName": "pwsh"
                }
            },
            "outputs": [],
            "source": [
                "Copy-item -Path \"C:\\GitRepo\\DBDeployments\\DeployMe\\Demo Files\\DemoSetup.Schema.sql\" -Destination \"C:\\GitRepo\\DBDeployments\\DeployMe\\DeployMe_Migration\\Schemas\\DemoSetup.Schema.sql\" -Force\n",
                "Copy-Item \"C:\\GitRepo\\DBDeployments\\DeployMe\\Demo Files\\Change Schema - DummyTableAndProcCreation.StoredProcedure.sql\" -Destination \"C:\\GitRepo\\DBDeployments\\DeployMe\\DeployMe_Migration\\StoredProcs\\dbo.DummyTableAndProcCreation.StoredProcedure.sql\" -Force\n",
                "write-host \"**** Remember to rename the file in Git ****\"\n"
            ]
        },
        {
            "cell_type": "code",
            "execution_count": null,
            "metadata": {
                "azdata_cell_guid": "41247c35-1e9b-4c5c-a58e-f166ed499ed2",
                "dotnet_interactive": {
                    "language": "pwsh"
                },
                "language": "dotnet-interactive.pwsh"
            },
            "outputs": [],
            "source": [
                ". \"C:\\GitRepo\\DBDeployments\\DeployMe\\DeployMe_Migration\\DeployMe_MigrationScript.ps1\""
            ]
        },
        {
            "cell_type": "code",
            "execution_count": null,
            "metadata": {
                "azdata_cell_guid": "bd56471a-6ced-42e8-8426-7e140e6196ef",
                "dotnet_interactive": {
                    "language": "sql"
                },
                "language": "dotnet-interactive.sql"
            },
            "outputs": [],
            "source": [
                "#!sql-DeployMeM\n",
                "\n",
                "SELECT schema_name(schema_id) FROM sys.procedures \n",
                "WHERE Name = 'DummyTableAndProcCreation'"
            ]
        }
    ],
    "metadata": {
        "kernelspec": {
            "display_name": ".NET (C#)",
            "language": "C#",
            "name": ".net-csharp"
        },
        "language_info": {
            "name": "polyglot-notebook"
        },
        "polyglot_notebook": {
            "kernelInfo": {
                "defaultKernelName": "csharp",
                "items": [
                    {
                        "aliases": [],
                        "name": "csharp"
                    },
                    {
                        "aliases": [],
                        "languageName": "T-SQL",
                        "name": "sql-DeployMeM"
                    },
                    {
                        "aliases": [],
                        "languageName": "T-SQL",
                        "name": "sql-mymasterdb"
                    }
                ]
            }
        }
    },
    "nbformat": 4,
    "nbformat_minor": 2
}
